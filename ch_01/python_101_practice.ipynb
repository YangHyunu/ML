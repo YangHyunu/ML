{
  "cells": [
    {
      "cell_type": "markdown",
      "metadata": {
        "id": "9yxuT6btpKW8"
      },
      "source": [
        "# Python 101\n",
        "\n",
        "This is an optional notebook to get you up to speed with Python in case you are new to Python or need a refresher. The material here is a crash course in Python; I highly recommend the [official Python tutorial](https://docs.python.org/3/tutorial/) for a deeper dive. Consider reading [this page](https://docs.python.org/3/tutorial/appetite.html) in the Python docs for background on Python and bookmarking the [glossary](https://docs.python.org/3/glossary.html#glossary).\n",
        "\n",
        "## Basic data types\n",
        "### Numbers\n",
        "Numbers in Python can be represented as integers (e.g. `5`) or floats (e.g. `5.0`). We can perform operations on them:"
      ]
    },
    {
      "cell_type": "code",
      "execution_count": 1,
      "metadata": {
        "id": "FEY5uZtupKXC",
        "outputId": "5deb79a7-81e5-47e3-a86f-3fed7401ff82",
        "colab": {
          "base_uri": "https://localhost:8080/"
        }
      },
      "outputs": [
        {
          "output_type": "execute_result",
          "data": {
            "text/plain": [
              "11"
            ]
          },
          "metadata": {},
          "execution_count": 1
        }
      ],
      "source": [
        "5 + 6"
      ]
    },
    {
      "cell_type": "code",
      "execution_count": 2,
      "metadata": {
        "id": "zeGGPghZpKXE",
        "outputId": "2167682a-72e7-46ae-91a2-917ce7d24c85",
        "colab": {
          "base_uri": "https://localhost:8080/"
        }
      },
      "outputs": [
        {
          "output_type": "execute_result",
          "data": {
            "text/plain": [
              "0.8333333333333334"
            ]
          },
          "metadata": {},
          "execution_count": 2
        }
      ],
      "source": [
        "2.5 / 3"
      ]
    },
    {
      "cell_type": "markdown",
      "metadata": {
        "id": "aBbWg6q5pKXG"
      },
      "source": [
        "### Booleans\n",
        "\n",
        "We can check for equality giving us a Boolean:"
      ]
    },
    {
      "cell_type": "code",
      "execution_count": 3,
      "metadata": {
        "id": "wHSTYVnTpKXG",
        "outputId": "22dc808c-42e7-41d6-98aa-ed895b72ed20",
        "colab": {
          "base_uri": "https://localhost:8080/"
        }
      },
      "outputs": [
        {
          "output_type": "execute_result",
          "data": {
            "text/plain": [
              "False"
            ]
          },
          "metadata": {},
          "execution_count": 3
        }
      ],
      "source": [
        "5 == 6"
      ]
    },
    {
      "cell_type": "code",
      "execution_count": 4,
      "metadata": {
        "id": "KlHr8FtqpKXH",
        "outputId": "970b9d6a-f445-4127-d0bb-01cce8a64584",
        "colab": {
          "base_uri": "https://localhost:8080/"
        }
      },
      "outputs": [
        {
          "output_type": "execute_result",
          "data": {
            "text/plain": [
              "True"
            ]
          },
          "metadata": {},
          "execution_count": 4
        }
      ],
      "source": [
        "5 < 6"
      ]
    },
    {
      "cell_type": "markdown",
      "metadata": {
        "id": "jytLRiAgpKXH"
      },
      "source": [
        "These statements can be combined with logical operators: `not`, `and`, `or`"
      ]
    },
    {
      "cell_type": "code",
      "execution_count": 5,
      "metadata": {
        "id": "UxB-r8MzpKXI",
        "outputId": "ab922e2c-ce7e-4f2f-b378-0fd16fddc5d1",
        "colab": {
          "base_uri": "https://localhost:8080/"
        }
      },
      "outputs": [
        {
          "output_type": "execute_result",
          "data": {
            "text/plain": [
              "True"
            ]
          },
          "metadata": {},
          "execution_count": 5
        }
      ],
      "source": [
        "(5 < 6) and not (5 == 6)"
      ]
    },
    {
      "cell_type": "code",
      "execution_count": 6,
      "metadata": {
        "id": "r4oWnBmCpKXJ",
        "outputId": "28f0e44e-a93c-4d5f-de87-40a43804a948",
        "colab": {
          "base_uri": "https://localhost:8080/"
        }
      },
      "outputs": [
        {
          "output_type": "execute_result",
          "data": {
            "text/plain": [
              "True"
            ]
          },
          "metadata": {},
          "execution_count": 6
        }
      ],
      "source": [
        "False or True"
      ]
    },
    {
      "cell_type": "code",
      "execution_count": 7,
      "metadata": {
        "id": "VTmIRtvQpKXK",
        "outputId": "161b0a58-2e95-4dc7-d6f3-c57e58ef8f56",
        "colab": {
          "base_uri": "https://localhost:8080/"
        }
      },
      "outputs": [
        {
          "output_type": "execute_result",
          "data": {
            "text/plain": [
              "True"
            ]
          },
          "metadata": {},
          "execution_count": 7
        }
      ],
      "source": [
        "True or False"
      ]
    },
    {
      "cell_type": "markdown",
      "metadata": {
        "id": "qid0kLiKpKXM"
      },
      "source": [
        "### Strings\n",
        "Using strings, we can handle text in Python. These values must be surrounded in quotes &mdash; single (`'...'`) is the standard, but double (`\"...\"`) works as well:"
      ]
    },
    {
      "cell_type": "code",
      "execution_count": 8,
      "metadata": {
        "id": "ioDg-WzXpKXM",
        "outputId": "677c35d4-c01c-4b22-ae53-72215d709c6a",
        "colab": {
          "base_uri": "https://localhost:8080/",
          "height": 35
        }
      },
      "outputs": [
        {
          "output_type": "execute_result",
          "data": {
            "text/plain": [
              "'hello'"
            ],
            "application/vnd.google.colaboratory.intrinsic+json": {
              "type": "string"
            }
          },
          "metadata": {},
          "execution_count": 8
        }
      ],
      "source": [
        "'hello'"
      ]
    },
    {
      "cell_type": "markdown",
      "metadata": {
        "id": "4IEjq1HVpKXN"
      },
      "source": [
        "We can also perform operations on strings. For example, we can see how long it is with `len()`:"
      ]
    },
    {
      "cell_type": "code",
      "execution_count": 9,
      "metadata": {
        "id": "SagEK8iEpKXN",
        "outputId": "9b58c3fd-2f87-4cf4-8ab7-177ebd3cdeef",
        "colab": {
          "base_uri": "https://localhost:8080/"
        }
      },
      "outputs": [
        {
          "output_type": "execute_result",
          "data": {
            "text/plain": [
              "5"
            ]
          },
          "metadata": {},
          "execution_count": 9
        }
      ],
      "source": [
        "len('hello')"
      ]
    },
    {
      "cell_type": "markdown",
      "metadata": {
        "id": "YHI4OY9hpKXN"
      },
      "source": [
        "We can select parts of the string by specifying the **index**. Note that in Python the 1<sup>st</sup> character is at index 0:"
      ]
    },
    {
      "cell_type": "code",
      "execution_count": 10,
      "metadata": {
        "id": "uKVz5a9HpKXO",
        "outputId": "3ab553b1-e144-4b4a-a8a5-372c35fe6b89",
        "colab": {
          "base_uri": "https://localhost:8080/",
          "height": 35
        }
      },
      "outputs": [
        {
          "output_type": "execute_result",
          "data": {
            "text/plain": [
              "'h'"
            ],
            "application/vnd.google.colaboratory.intrinsic+json": {
              "type": "string"
            }
          },
          "metadata": {},
          "execution_count": 10
        }
      ],
      "source": [
        "'hello'[0]"
      ]
    },
    {
      "cell_type": "markdown",
      "metadata": {
        "id": "kZPyF-nDpKXO"
      },
      "source": [
        "We can concatentate strings with `+`:"
      ]
    },
    {
      "cell_type": "code",
      "execution_count": 11,
      "metadata": {
        "id": "hJYv48SRpKXO",
        "outputId": "0740cdd4-694f-43d7-8e0b-82e5cd5d7d66",
        "colab": {
          "base_uri": "https://localhost:8080/",
          "height": 35
        }
      },
      "outputs": [
        {
          "output_type": "execute_result",
          "data": {
            "text/plain": [
              "'hello world'"
            ],
            "application/vnd.google.colaboratory.intrinsic+json": {
              "type": "string"
            }
          },
          "metadata": {},
          "execution_count": 11
        }
      ],
      "source": [
        "'hello' + ' ' + 'world'"
      ]
    },
    {
      "cell_type": "markdown",
      "metadata": {
        "id": "PbnT4LZjpKXP"
      },
      "source": [
        "We can check if characters are in the string with the `in` operator:"
      ]
    },
    {
      "cell_type": "code",
      "execution_count": 12,
      "metadata": {
        "id": "Ma-wGUL8pKXP",
        "outputId": "94fcf627-dc6d-4635-bd49-ebebdc066130",
        "colab": {
          "base_uri": "https://localhost:8080/"
        }
      },
      "outputs": [
        {
          "output_type": "execute_result",
          "data": {
            "text/plain": [
              "True"
            ]
          },
          "metadata": {},
          "execution_count": 12
        }
      ],
      "source": [
        "'h' in 'hello'"
      ]
    },
    {
      "cell_type": "markdown",
      "metadata": {
        "id": "FKLfvgF1pKXP"
      },
      "source": [
        "## Variables\n",
        "Notice that just typing text causes an error. Errors in Python attempt to clue us in to what went wrong with our code. In this case, we have a `NameError` exception which tells us that `'hello'` is not defined. This means that [the Python interpreter](https://docs.python.org/3/tutorial/interpreter.html) looked for a **variable** named `hello`, but it didn't find one."
      ]
    },
    {
      "cell_type": "code",
      "execution_count": null,
      "metadata": {
        "id": "5-6o3oWmpKXP",
        "outputId": "c55dde52-7c9b-48b1-e35d-b07ccef10932"
      },
      "outputs": [
        {
          "ename": "NameError",
          "evalue": "name 'hello' is not defined",
          "output_type": "error",
          "traceback": [
            "\u001b[0;31m---------------------------------------------------------------------------\u001b[0m",
            "\u001b[0;31mNameError\u001b[0m                                 Traceback (most recent call last)",
            "\u001b[0;32m<ipython-input-13-f572d396fae9>\u001b[0m in \u001b[0;36m<module>\u001b[0;34m\u001b[0m\n\u001b[0;32m----> 1\u001b[0;31m \u001b[0mhello\u001b[0m\u001b[0;34m\u001b[0m\u001b[0;34m\u001b[0m\u001b[0m\n\u001b[0m",
            "\u001b[0;31mNameError\u001b[0m: name 'hello' is not defined"
          ]
        }
      ],
      "source": [
        "hello"
      ]
    },
    {
      "cell_type": "markdown",
      "metadata": {
        "id": "HEtz6SJXpKXP"
      },
      "source": [
        "Variables give us a way to store data types. We define a variable using the `variable_name = value` syntax:"
      ]
    },
    {
      "cell_type": "code",
      "execution_count": 13,
      "metadata": {
        "id": "XKreQUG-pKXP",
        "outputId": "fe4217ca-4f12-4306-b7ac-729edced37df",
        "colab": {
          "base_uri": "https://localhost:8080/"
        }
      },
      "outputs": [
        {
          "output_type": "execute_result",
          "data": {
            "text/plain": [
              "12"
            ]
          },
          "metadata": {},
          "execution_count": 13
        }
      ],
      "source": [
        "x = 5\n",
        "y = 7\n",
        "x + y"
      ]
    },
    {
      "cell_type": "markdown",
      "metadata": {
        "id": "h64AgGbTpKXQ"
      },
      "source": [
        "The variable name cannot contain spaces; we usually use `_` instead. The best variable names are descriptive ones:"
      ]
    },
    {
      "cell_type": "code",
      "execution_count": 14,
      "metadata": {
        "id": "yHRX-Rm2pKXQ"
      },
      "outputs": [],
      "source": [
        "book_title = 'Hands-On Data Analysis with Pandas'"
      ]
    },
    {
      "cell_type": "markdown",
      "metadata": {
        "id": "-9aTrg86pKXQ"
      },
      "source": [
        "Variables can be any data type. We can check which one it is with `type()`, which is a **function** (more on that later):"
      ]
    },
    {
      "cell_type": "code",
      "execution_count": 15,
      "metadata": {
        "id": "haD_TAXUpKXQ",
        "outputId": "c4f11b1e-05d7-4185-80ca-ea8ac8155469",
        "colab": {
          "base_uri": "https://localhost:8080/"
        }
      },
      "outputs": [
        {
          "output_type": "execute_result",
          "data": {
            "text/plain": [
              "int"
            ]
          },
          "metadata": {},
          "execution_count": 15
        }
      ],
      "source": [
        "type(x)"
      ]
    },
    {
      "cell_type": "code",
      "execution_count": 16,
      "metadata": {
        "id": "0jRMU_KrpKXQ",
        "outputId": "cdb64d55-5fd2-48b1-e960-84569b6bb19a",
        "colab": {
          "base_uri": "https://localhost:8080/"
        }
      },
      "outputs": [
        {
          "output_type": "execute_result",
          "data": {
            "text/plain": [
              "str"
            ]
          },
          "metadata": {},
          "execution_count": 16
        }
      ],
      "source": [
        "type(book_title)"
      ]
    },
    {
      "cell_type": "markdown",
      "metadata": {
        "id": "WX9QW54EpKXQ"
      },
      "source": [
        "If we need to see the value of a variable, we can print it using the `print()` function:"
      ]
    },
    {
      "cell_type": "code",
      "execution_count": null,
      "metadata": {
        "id": "9jKAPBk9pKXR",
        "outputId": "cec79490-4644-48f1-ec68-98e7fe5cd73c"
      },
      "outputs": [
        {
          "name": "stdout",
          "output_type": "stream",
          "text": [
            "Hands-On Data Analysis with Pandas\n"
          ]
        }
      ],
      "source": [
        "print(book_title)"
      ]
    },
    {
      "cell_type": "markdown",
      "metadata": {
        "id": "XN7Y94HQpKXR"
      },
      "source": [
        "## Collections of Items\n",
        "\n",
        "### Lists\n",
        "We can store a collection of items in a list:"
      ]
    },
    {
      "cell_type": "code",
      "execution_count": 17,
      "metadata": {
        "id": "ZtgYTW-2pKXS",
        "outputId": "2fb85a1e-3b99-4fc1-888a-d8930b8ef2be",
        "colab": {
          "base_uri": "https://localhost:8080/"
        }
      },
      "outputs": [
        {
          "output_type": "execute_result",
          "data": {
            "text/plain": [
              "['hello', ' ', 'world']"
            ]
          },
          "metadata": {},
          "execution_count": 17
        }
      ],
      "source": [
        "['hello', ' ', 'world']"
      ]
    },
    {
      "cell_type": "markdown",
      "metadata": {
        "id": "rqJoGs3spKXS"
      },
      "source": [
        "The list can be stored in a variable. Note that the items in the list can be of different types:"
      ]
    },
    {
      "cell_type": "code",
      "execution_count": 18,
      "metadata": {
        "id": "v4Pci-IApKXS",
        "outputId": "7833ed83-0392-4738-c690-75e01a5b05a5",
        "colab": {
          "base_uri": "https://localhost:8080/"
        }
      },
      "outputs": [
        {
          "output_type": "execute_result",
          "data": {
            "text/plain": [
              "list"
            ]
          },
          "metadata": {},
          "execution_count": 18
        }
      ],
      "source": [
        "my_list = ['hello', 3.8, True, 'Python']\n",
        "type(my_list)"
      ]
    },
    {
      "cell_type": "markdown",
      "metadata": {
        "id": "OwDxbz12pKXS"
      },
      "source": [
        "We can see how many elements are in the list with `len()`:"
      ]
    },
    {
      "cell_type": "code",
      "execution_count": 19,
      "metadata": {
        "id": "mznpq5v_pKXS",
        "outputId": "b3db00a4-d5e5-4a4d-b069-0bbde1bce224",
        "colab": {
          "base_uri": "https://localhost:8080/"
        }
      },
      "outputs": [
        {
          "output_type": "execute_result",
          "data": {
            "text/plain": [
              "4"
            ]
          },
          "metadata": {},
          "execution_count": 19
        }
      ],
      "source": [
        "len(my_list)"
      ]
    },
    {
      "cell_type": "markdown",
      "metadata": {
        "id": "suxPp-u9pKXT"
      },
      "source": [
        "We can also use the `in` operator to check if a value is in the list:"
      ]
    },
    {
      "cell_type": "code",
      "execution_count": 20,
      "metadata": {
        "id": "kHEMtIO5pKXT",
        "outputId": "2a38384a-1f47-4de0-ccfc-4f2b27ea7c94",
        "colab": {
          "base_uri": "https://localhost:8080/"
        }
      },
      "outputs": [
        {
          "output_type": "execute_result",
          "data": {
            "text/plain": [
              "False"
            ]
          },
          "metadata": {},
          "execution_count": 20
        }
      ],
      "source": [
        "'world' in my_list"
      ]
    },
    {
      "cell_type": "markdown",
      "metadata": {
        "id": "SApwO0dZpKXU"
      },
      "source": [
        "We can select items in the list just as we did with strings, by providing the index to select:"
      ]
    },
    {
      "cell_type": "code",
      "execution_count": 21,
      "metadata": {
        "id": "-1RJ9eqZpKXV",
        "outputId": "7778969d-eda5-47d8-ba09-eaea8acd7212",
        "colab": {
          "base_uri": "https://localhost:8080/"
        }
      },
      "outputs": [
        {
          "output_type": "execute_result",
          "data": {
            "text/plain": [
              "3.8"
            ]
          },
          "metadata": {},
          "execution_count": 21
        }
      ],
      "source": [
        "my_list[1]"
      ]
    },
    {
      "cell_type": "markdown",
      "metadata": {
        "id": "9-bRxNz_pKXW"
      },
      "source": [
        "Python also allows us to use negative values, so we can easily select the last one:"
      ]
    },
    {
      "cell_type": "code",
      "execution_count": 22,
      "metadata": {
        "id": "Xf8ZgM3mpKXW",
        "outputId": "ca08f302-60b4-4e00-81be-f76770b3dedc",
        "colab": {
          "base_uri": "https://localhost:8080/",
          "height": 35
        }
      },
      "outputs": [
        {
          "output_type": "execute_result",
          "data": {
            "text/plain": [
              "'Python'"
            ],
            "application/vnd.google.colaboratory.intrinsic+json": {
              "type": "string"
            }
          },
          "metadata": {},
          "execution_count": 22
        }
      ],
      "source": [
        "my_list[-1]"
      ]
    },
    {
      "cell_type": "markdown",
      "metadata": {
        "id": "WTaLX8T1pKXW"
      },
      "source": [
        "Another powerful feature of lists (and strings) is **slicing**. We can grab the middle 2 elements in the list:"
      ]
    },
    {
      "cell_type": "code",
      "execution_count": 23,
      "metadata": {
        "id": "gw_MyhWIpKXX",
        "outputId": "f1d83118-4934-46f4-9045-6bd76f1f21a6",
        "colab": {
          "base_uri": "https://localhost:8080/"
        }
      },
      "outputs": [
        {
          "output_type": "execute_result",
          "data": {
            "text/plain": [
              "[3.8, True]"
            ]
          },
          "metadata": {},
          "execution_count": 23
        }
      ],
      "source": [
        "my_list[1:3]"
      ]
    },
    {
      "cell_type": "markdown",
      "metadata": {
        "id": "Cq3wlVdhpKXX"
      },
      "source": [
        "... or every other one:"
      ]
    },
    {
      "cell_type": "code",
      "execution_count": null,
      "metadata": {
        "id": "WtQSB_mXpKXX",
        "outputId": "c040bf14-7595-4dfc-aaba-c3f769a3068f"
      },
      "outputs": [
        {
          "data": {
            "text/plain": [
              "['hello', True]"
            ]
          },
          "execution_count": 26,
          "metadata": {},
          "output_type": "execute_result"
        }
      ],
      "source": [
        "my_list[::2]"
      ]
    },
    {
      "cell_type": "markdown",
      "metadata": {
        "id": "il2pYTrZpKXY"
      },
      "source": [
        "We can even select the list in reverse:"
      ]
    },
    {
      "cell_type": "code",
      "execution_count": null,
      "metadata": {
        "id": "S-qmX17_pKXY",
        "outputId": "3b0eb7e0-217d-404f-d945-46aae348f721"
      },
      "outputs": [
        {
          "data": {
            "text/plain": [
              "['Python', True, 3.8, 'hello']"
            ]
          },
          "execution_count": 27,
          "metadata": {},
          "output_type": "execute_result"
        }
      ],
      "source": [
        "my_list[::-1]"
      ]
    },
    {
      "cell_type": "markdown",
      "metadata": {
        "id": "3QOej7KrpKXY"
      },
      "source": [
        "Note: This syntax is `[start:stop:step]` where the selection is inclusive of the start index, but exclusive of the stop index. If `start` isn't provided, `0` is used. If `stop` isn't provided, the number of elements is used (4, in our case); this works because the `stop` is exclusive. If `step` isn't provided, it is 1.\n",
        "\n",
        "We can use the `join()` method on a string object to concatenate all the items of a list into single string. The string we call the `join()` method on will be used as the separator, here we separate with a pipe (|):"
      ]
    },
    {
      "cell_type": "code",
      "execution_count": null,
      "metadata": {
        "id": "YZRBfQP1pKXY",
        "outputId": "62e12331-26d3-41e3-e815-950be598ae89"
      },
      "outputs": [
        {
          "data": {
            "text/plain": [
              "'x|y|z'"
            ]
          },
          "execution_count": 28,
          "metadata": {},
          "output_type": "execute_result"
        }
      ],
      "source": [
        "'|'.join(['x', 'y', 'z'])"
      ]
    },
    {
      "cell_type": "markdown",
      "metadata": {
        "id": "zgMqjLsrpKXZ"
      },
      "source": [
        "### Tuples\n",
        "Tuples are similar to lists; however, they can't be modified after creation i.e. they are **immutable**. Instead of square brackets, we use parenthesis to create tuples:"
      ]
    },
    {
      "cell_type": "code",
      "execution_count": null,
      "metadata": {
        "id": "JDnLnusRpKXa",
        "outputId": "4a0d4ef1-fd90-4193-8b1c-5e76149ce386"
      },
      "outputs": [
        {
          "data": {
            "text/plain": [
              "tuple"
            ]
          },
          "execution_count": 29,
          "metadata": {},
          "output_type": "execute_result"
        }
      ],
      "source": [
        "my_tuple = ('a', 5)\n",
        "type(my_tuple)"
      ]
    },
    {
      "cell_type": "code",
      "execution_count": null,
      "metadata": {
        "id": "q7cf3D3FpKXb",
        "outputId": "6e2d4095-e651-4dfa-e756-02b988076d4f"
      },
      "outputs": [
        {
          "data": {
            "text/plain": [
              "'a'"
            ]
          },
          "execution_count": 30,
          "metadata": {},
          "output_type": "execute_result"
        }
      ],
      "source": [
        "my_tuple[0]"
      ]
    },
    {
      "cell_type": "markdown",
      "metadata": {
        "id": "oVeegndrpKXc"
      },
      "source": [
        "Immutable objects can't be modified:"
      ]
    },
    {
      "cell_type": "code",
      "execution_count": null,
      "metadata": {
        "id": "9A5N5M3vpKXd",
        "outputId": "59b71f52-94cf-4f15-a814-afdbcf5a8d33"
      },
      "outputs": [
        {
          "ename": "TypeError",
          "evalue": "'tuple' object does not support item assignment",
          "output_type": "error",
          "traceback": [
            "\u001b[0;31m---------------------------------------------------------------------------\u001b[0m",
            "\u001b[0;31mTypeError\u001b[0m                                 Traceback (most recent call last)",
            "\u001b[0;32m<ipython-input-31-f792d047bcee>\u001b[0m in \u001b[0;36m<module>\u001b[0;34m\u001b[0m\n\u001b[0;32m----> 1\u001b[0;31m \u001b[0mmy_tuple\u001b[0m\u001b[0;34m[\u001b[0m\u001b[0;36m0\u001b[0m\u001b[0;34m]\u001b[0m \u001b[0;34m=\u001b[0m \u001b[0;34m'b'\u001b[0m\u001b[0;34m\u001b[0m\u001b[0;34m\u001b[0m\u001b[0m\n\u001b[0m",
            "\u001b[0;31mTypeError\u001b[0m: 'tuple' object does not support item assignment"
          ]
        }
      ],
      "source": [
        "my_tuple[0] = 'b'"
      ]
    },
    {
      "cell_type": "markdown",
      "metadata": {
        "id": "NuyoGR23pKXe"
      },
      "source": [
        "### Dictionaries\n",
        "We can store mappings of key-value pairs using dictionaries:"
      ]
    },
    {
      "cell_type": "code",
      "execution_count": null,
      "metadata": {
        "id": "ZsXYDEOfpKXe",
        "outputId": "38009a53-dc9f-4e9a-b07b-f6eca1e7d329"
      },
      "outputs": [
        {
          "data": {
            "text/plain": [
              "dict"
            ]
          },
          "execution_count": 32,
          "metadata": {},
          "output_type": "execute_result"
        }
      ],
      "source": [
        "shopping_list = {\n",
        "    'veggies': ['spinach', 'kale', 'beets'],\n",
        "    'fruits': 'bananas',\n",
        "    'meat': 0\n",
        "}\n",
        "type(shopping_list)"
      ]
    },
    {
      "cell_type": "markdown",
      "metadata": {
        "id": "uQ4d2HIIpKYh"
      },
      "source": [
        "To access the values associated with a specific key, we use the square bracket notation again:"
      ]
    },
    {
      "cell_type": "code",
      "execution_count": null,
      "metadata": {
        "id": "KioS4SDmpKYi",
        "outputId": "137a0649-622e-4a70-c8a6-911163c084f7"
      },
      "outputs": [
        {
          "data": {
            "text/plain": [
              "['spinach', 'kale', 'beets']"
            ]
          },
          "execution_count": 33,
          "metadata": {},
          "output_type": "execute_result"
        }
      ],
      "source": [
        "shopping_list['veggies']"
      ]
    },
    {
      "cell_type": "markdown",
      "metadata": {
        "id": "drHDUqWEpKYi"
      },
      "source": [
        "We can extract all of the keys with `keys()`:"
      ]
    },
    {
      "cell_type": "code",
      "execution_count": null,
      "metadata": {
        "id": "AGOD-B9PpKYj",
        "outputId": "5436e708-57ca-4728-c1ee-400b317ef134"
      },
      "outputs": [
        {
          "data": {
            "text/plain": [
              "dict_keys(['veggies', 'fruits', 'meat'])"
            ]
          },
          "execution_count": 34,
          "metadata": {},
          "output_type": "execute_result"
        }
      ],
      "source": [
        "shopping_list.keys()"
      ]
    },
    {
      "cell_type": "markdown",
      "metadata": {
        "id": "Bxc0s-7apKYj"
      },
      "source": [
        "We can extract all of the values with `values()`:"
      ]
    },
    {
      "cell_type": "code",
      "execution_count": null,
      "metadata": {
        "id": "LvRQ7Me1pKYk",
        "outputId": "9435da78-93fe-4996-9fca-eb2701b3b3c8"
      },
      "outputs": [
        {
          "data": {
            "text/plain": [
              "dict_values([['spinach', 'kale', 'beets'], 'bananas', 0])"
            ]
          },
          "execution_count": 35,
          "metadata": {},
          "output_type": "execute_result"
        }
      ],
      "source": [
        "shopping_list.values()"
      ]
    },
    {
      "cell_type": "markdown",
      "metadata": {
        "id": "XyHATfn0pKYk"
      },
      "source": [
        "Finally, we can call `items()` to get back pairs of (key, value) pairs:"
      ]
    },
    {
      "cell_type": "code",
      "execution_count": null,
      "metadata": {
        "id": "QWU46hqrpKYl",
        "outputId": "e3394375-e711-4923-a5f5-de7b5be73368"
      },
      "outputs": [
        {
          "data": {
            "text/plain": [
              "dict_items([('veggies', ['spinach', 'kale', 'beets']), ('fruits', 'bananas'), ('meat', 0)])"
            ]
          },
          "execution_count": 36,
          "metadata": {},
          "output_type": "execute_result"
        }
      ],
      "source": [
        "shopping_list.items()"
      ]
    },
    {
      "cell_type": "markdown",
      "metadata": {
        "id": "IRNJHqeZpKYl"
      },
      "source": [
        "### Sets\n",
        "A set is a collection of unique items; a common use is to remove duplicates from a list. These are written with curly braces also, but notice there is no key-value mapping:"
      ]
    },
    {
      "cell_type": "code",
      "execution_count": null,
      "metadata": {
        "id": "acULhwdYpKYm",
        "outputId": "0916c55f-b433-4a20-97be-c02307afd2a7"
      },
      "outputs": [
        {
          "data": {
            "text/plain": [
              "set"
            ]
          },
          "execution_count": 37,
          "metadata": {},
          "output_type": "execute_result"
        }
      ],
      "source": [
        "my_set = {1, 1, 2, 'a'}\n",
        "type(my_set)"
      ]
    },
    {
      "cell_type": "markdown",
      "metadata": {
        "id": "pNHc-gAipKYm"
      },
      "source": [
        "How many items are in this set?"
      ]
    },
    {
      "cell_type": "code",
      "execution_count": null,
      "metadata": {
        "id": "LnF8mHutpKYn",
        "outputId": "7ac82168-5306-47ef-a61d-16282460b259"
      },
      "outputs": [
        {
          "data": {
            "text/plain": [
              "3"
            ]
          },
          "execution_count": 38,
          "metadata": {},
          "output_type": "execute_result"
        }
      ],
      "source": [
        "len(my_set)"
      ]
    },
    {
      "cell_type": "markdown",
      "metadata": {
        "id": "BrwGpQnqpKYn"
      },
      "source": [
        "We put in 4 items but the set only has 3 because duplicates are removed:"
      ]
    },
    {
      "cell_type": "code",
      "execution_count": null,
      "metadata": {
        "id": "1sYlawqJpKYn",
        "outputId": "6ec2ef4a-d147-4838-e81f-1614bf89c322"
      },
      "outputs": [
        {
          "data": {
            "text/plain": [
              "{1, 2, 'a'}"
            ]
          },
          "execution_count": 39,
          "metadata": {},
          "output_type": "execute_result"
        }
      ],
      "source": [
        "my_set"
      ]
    },
    {
      "cell_type": "markdown",
      "metadata": {
        "id": "SbT9NoGppKYo"
      },
      "source": [
        "We can check if a value is in the set:"
      ]
    },
    {
      "cell_type": "code",
      "execution_count": null,
      "metadata": {
        "id": "3P-ivSe7pKYo",
        "outputId": "07c4f01c-5fec-4596-d5ff-aa6c1380d70c"
      },
      "outputs": [
        {
          "data": {
            "text/plain": [
              "True"
            ]
          },
          "execution_count": 40,
          "metadata": {},
          "output_type": "execute_result"
        }
      ],
      "source": [
        "2 in my_set"
      ]
    },
    {
      "cell_type": "markdown",
      "metadata": {
        "id": "ORYcXyTlpKYo"
      },
      "source": [
        "## Functions\n",
        "We can define functions to package up our code for reuse. We have already seen some functions: `len()`, `type()`, and `print()`. They are all functions that take **arguments**. Note that functions don't need to accept arguments, in which case they are called without passing in anything (e.g. `print()` versus `print(my_string)`).\n",
        "\n",
        "*Aside: we can also create lists, sets, dictionaries, and tuples with functions: `list()`, `set()`, `dict()`, and `tuple()`*\n",
        "\n",
        "### Defining functions\n",
        "\n",
        "We use the `def` keyword to define functions. Let's create a function called `add()` with 2 parameters, `x` and `y`, which will be the names the code in the function will use to refer to the arguments we pass in when calling it:"
      ]
    },
    {
      "cell_type": "code",
      "execution_count": null,
      "metadata": {
        "id": "VnDqG-EPpKYo"
      },
      "outputs": [],
      "source": [
        "def add(x, y):\n",
        "    \"\"\"This is a docstring. It is used to explain how the code works and is optional (but encouraged).\"\"\"\n",
        "    # this is a comment; it allows us to annotate the code\n",
        "    print('Performing addition')\n",
        "    return x + y"
      ]
    },
    {
      "cell_type": "markdown",
      "metadata": {
        "id": "WIKzbHFkpKYo"
      },
      "source": [
        "Once we run the code above, our function is ready to use:"
      ]
    },
    {
      "cell_type": "code",
      "execution_count": null,
      "metadata": {
        "id": "q-Y69C-epKYo",
        "outputId": "1d217d14-5d41-48db-9de9-72a7a6282566"
      },
      "outputs": [
        {
          "data": {
            "text/plain": [
              "function"
            ]
          },
          "execution_count": 42,
          "metadata": {},
          "output_type": "execute_result"
        }
      ],
      "source": [
        "type(add)"
      ]
    },
    {
      "cell_type": "markdown",
      "metadata": {
        "id": "lGPuqw44pKYo"
      },
      "source": [
        "Let's add some numbers:"
      ]
    },
    {
      "cell_type": "code",
      "execution_count": null,
      "metadata": {
        "id": "mG9g3w1TpKYo",
        "outputId": "9c18022a-ae3b-41df-80af-942e33799c5c"
      },
      "outputs": [
        {
          "name": "stdout",
          "output_type": "stream",
          "text": [
            "Performing addition\n"
          ]
        },
        {
          "data": {
            "text/plain": [
              "3"
            ]
          },
          "execution_count": 43,
          "metadata": {},
          "output_type": "execute_result"
        }
      ],
      "source": [
        "add(1, 2)"
      ]
    },
    {
      "cell_type": "markdown",
      "metadata": {
        "id": "gANluxgrpKYp"
      },
      "source": [
        "### Return values\n",
        "We can store the result in a variable for later:"
      ]
    },
    {
      "cell_type": "code",
      "execution_count": null,
      "metadata": {
        "id": "Z47O28BFpKYp",
        "outputId": "8de90676-2073-4f2d-a638-6f90c8c4c74c"
      },
      "outputs": [
        {
          "name": "stdout",
          "output_type": "stream",
          "text": [
            "Performing addition\n"
          ]
        }
      ],
      "source": [
        "result = add(1, 2)"
      ]
    },
    {
      "cell_type": "markdown",
      "metadata": {
        "id": "_EXKCCAkpKYp"
      },
      "source": [
        "Notice the print statement wasn't captured in `result`. This variable will only have what the function **returns**. This is what the `return` line in the function definition did:"
      ]
    },
    {
      "cell_type": "code",
      "execution_count": null,
      "metadata": {
        "id": "L7l09_a2pKYp",
        "outputId": "0d3a20df-3359-4628-958a-83e3196d72c4"
      },
      "outputs": [
        {
          "data": {
            "text/plain": [
              "3"
            ]
          },
          "execution_count": 45,
          "metadata": {},
          "output_type": "execute_result"
        }
      ],
      "source": [
        "result"
      ]
    },
    {
      "cell_type": "markdown",
      "metadata": {
        "id": "fFrp59ovpKYp"
      },
      "source": [
        "Note that functions don't have to return anything. Consider `print()`:"
      ]
    },
    {
      "cell_type": "code",
      "execution_count": null,
      "metadata": {
        "id": "WtSs8QW1pKYp",
        "outputId": "597584d8-c3ef-4285-d5f9-a201802b00b5"
      },
      "outputs": [
        {
          "name": "stdout",
          "output_type": "stream",
          "text": [
            "hello world\n"
          ]
        }
      ],
      "source": [
        "print_result = print('hello world')"
      ]
    },
    {
      "cell_type": "markdown",
      "metadata": {
        "id": "y9Mc73E2pKYp"
      },
      "source": [
        "If we take a look at what we got back, we see it is a `NoneType` object:"
      ]
    },
    {
      "cell_type": "code",
      "execution_count": null,
      "metadata": {
        "id": "4TFtQrFFpKYq",
        "outputId": "1aed5287-0d24-4056-db1b-93f54eb0f8f5"
      },
      "outputs": [
        {
          "data": {
            "text/plain": [
              "NoneType"
            ]
          },
          "execution_count": 47,
          "metadata": {},
          "output_type": "execute_result"
        }
      ],
      "source": [
        "type(print_result)"
      ]
    },
    {
      "cell_type": "markdown",
      "metadata": {
        "id": "GEh88yIjpKYq"
      },
      "source": [
        "In Python, the value `None` represents null values. We can check if our variable *is* `None`:"
      ]
    },
    {
      "cell_type": "code",
      "execution_count": null,
      "metadata": {
        "id": "Xuai9096pKYq",
        "outputId": "1deb7ae0-bdb7-4a11-e844-50636be57573"
      },
      "outputs": [
        {
          "data": {
            "text/plain": [
              "True"
            ]
          },
          "execution_count": 48,
          "metadata": {},
          "output_type": "execute_result"
        }
      ],
      "source": [
        "print_result is None"
      ]
    },
    {
      "cell_type": "markdown",
      "metadata": {
        "id": "N4e2RtZ9pKYq"
      },
      "source": [
        "*Warning: make sure to use comparison operators (e.g. >, >=, <, <=, ==, !=) to compare to values other than `None`.*\n",
        "\n",
        "### Function arguments\n",
        "\n",
        "*Note that function arguments can be anything, even other functions. We will see several examples of this in the text.*\n",
        "\n",
        "The function we defined requires arguments. If we don't provide them all, it will cause an error:"
      ]
    },
    {
      "cell_type": "code",
      "execution_count": null,
      "metadata": {
        "id": "CxDtapQLpKYq",
        "outputId": "145929c7-a010-42d2-ceec-553201c41a05"
      },
      "outputs": [
        {
          "ename": "TypeError",
          "evalue": "add() missing 1 required positional argument: 'y'",
          "output_type": "error",
          "traceback": [
            "\u001b[0;31m---------------------------------------------------------------------------\u001b[0m",
            "\u001b[0;31mTypeError\u001b[0m                                 Traceback (most recent call last)",
            "\u001b[0;32m<ipython-input-49-2558a051bacf>\u001b[0m in \u001b[0;36m<module>\u001b[0;34m\u001b[0m\n\u001b[0;32m----> 1\u001b[0;31m \u001b[0madd\u001b[0m\u001b[0;34m(\u001b[0m\u001b[0;36m1\u001b[0m\u001b[0;34m)\u001b[0m\u001b[0;34m\u001b[0m\u001b[0;34m\u001b[0m\u001b[0m\n\u001b[0m",
            "\u001b[0;31mTypeError\u001b[0m: add() missing 1 required positional argument: 'y'"
          ]
        }
      ],
      "source": [
        "add(1)"
      ]
    },
    {
      "cell_type": "markdown",
      "metadata": {
        "id": "lZR-iBg8pKYq"
      },
      "source": [
        "We can use `help()` to check what arguments the function needs (notice the docstring ends up here):"
      ]
    },
    {
      "cell_type": "code",
      "execution_count": null,
      "metadata": {
        "id": "eNK93V8DpKYq",
        "outputId": "8e5c2ef2-4387-4a0e-d13c-dd865454b9e1"
      },
      "outputs": [
        {
          "name": "stdout",
          "output_type": "stream",
          "text": [
            "Help on function add in module __main__:\n",
            "\n",
            "add(x, y)\n",
            "    This is a docstring. It is used to explain how the code works and is optional (but encouraged).\n",
            "\n"
          ]
        }
      ],
      "source": [
        "help(add)"
      ]
    },
    {
      "cell_type": "markdown",
      "metadata": {
        "id": "QSQdIy80pKYq"
      },
      "source": [
        "We will also get errors if we pass in data types that `add()` can't work with:"
      ]
    },
    {
      "cell_type": "code",
      "execution_count": null,
      "metadata": {
        "id": "SeVOjxxFpKYq",
        "outputId": "2d0a15f6-7a35-4999-8ee8-91a38e372b1f"
      },
      "outputs": [
        {
          "name": "stdout",
          "output_type": "stream",
          "text": [
            "Performing addition\n"
          ]
        },
        {
          "ename": "TypeError",
          "evalue": "unsupported operand type(s) for +: 'set' and 'set'",
          "output_type": "error",
          "traceback": [
            "\u001b[0;31m---------------------------------------------------------------------------\u001b[0m",
            "\u001b[0;31mTypeError\u001b[0m                                 Traceback (most recent call last)",
            "\u001b[0;32m<ipython-input-51-9c946942295c>\u001b[0m in \u001b[0;36m<module>\u001b[0;34m\u001b[0m\n\u001b[0;32m----> 1\u001b[0;31m \u001b[0madd\u001b[0m\u001b[0;34m(\u001b[0m\u001b[0mset\u001b[0m\u001b[0;34m(\u001b[0m\u001b[0;34m)\u001b[0m\u001b[0;34m,\u001b[0m \u001b[0mset\u001b[0m\u001b[0;34m(\u001b[0m\u001b[0;34m)\u001b[0m\u001b[0;34m)\u001b[0m\u001b[0;34m\u001b[0m\u001b[0;34m\u001b[0m\u001b[0m\n\u001b[0m",
            "\u001b[0;32m<ipython-input-41-e34d07952248>\u001b[0m in \u001b[0;36madd\u001b[0;34m(x, y)\u001b[0m\n\u001b[1;32m      3\u001b[0m     \u001b[0;31m# this is a comment; it allows us to annotate the code\u001b[0m\u001b[0;34m\u001b[0m\u001b[0;34m\u001b[0m\u001b[0;34m\u001b[0m\u001b[0m\n\u001b[1;32m      4\u001b[0m     \u001b[0mprint\u001b[0m\u001b[0;34m(\u001b[0m\u001b[0;34m'Performing addition'\u001b[0m\u001b[0;34m)\u001b[0m\u001b[0;34m\u001b[0m\u001b[0;34m\u001b[0m\u001b[0m\n\u001b[0;32m----> 5\u001b[0;31m     \u001b[0;32mreturn\u001b[0m \u001b[0mx\u001b[0m \u001b[0;34m+\u001b[0m \u001b[0my\u001b[0m\u001b[0;34m\u001b[0m\u001b[0;34m\u001b[0m\u001b[0m\n\u001b[0m",
            "\u001b[0;31mTypeError\u001b[0m: unsupported operand type(s) for +: 'set' and 'set'"
          ]
        }
      ],
      "source": [
        "add(set(), set())"
      ]
    },
    {
      "cell_type": "markdown",
      "metadata": {
        "id": "QPq7d9FqpKYr"
      },
      "source": [
        "We will discuss error handling in the text.\n",
        "\n",
        "## Control Flow Statements\n",
        "Sometimes we want to vary the path the code takes based on some criteria. For this we have `if`, `elif`, and `else`. We can use `if` on its own:"
      ]
    },
    {
      "cell_type": "code",
      "execution_count": null,
      "metadata": {
        "id": "NZVR2q9kpKYr"
      },
      "outputs": [],
      "source": [
        "def make_positive(x):\n",
        "    \"\"\"Returns a positive x\"\"\"\n",
        "    if x < 0:\n",
        "        x *= -1\n",
        "    return x"
      ]
    },
    {
      "cell_type": "markdown",
      "metadata": {
        "id": "5ikZ3Y9XpKYr"
      },
      "source": [
        "Calling this function with negative input causes the code under the `if` statement to run:"
      ]
    },
    {
      "cell_type": "code",
      "execution_count": null,
      "metadata": {
        "id": "_TBuv4zHpKYr",
        "outputId": "8d9a1360-edff-407c-ad0b-f9872fe025a9"
      },
      "outputs": [
        {
          "data": {
            "text/plain": [
              "1"
            ]
          },
          "execution_count": 53,
          "metadata": {},
          "output_type": "execute_result"
        }
      ],
      "source": [
        "make_positive(-1)"
      ]
    },
    {
      "cell_type": "markdown",
      "metadata": {
        "id": "1XNHi0GspKYr"
      },
      "source": [
        "Calling this function with positive input skips the code under the `if` statement, keeping the number positive:"
      ]
    },
    {
      "cell_type": "code",
      "execution_count": null,
      "metadata": {
        "id": "3vfLnWGPpKYr",
        "outputId": "df9686ee-6570-466d-f86b-1cfc986f7c76"
      },
      "outputs": [
        {
          "data": {
            "text/plain": [
              "2"
            ]
          },
          "execution_count": 54,
          "metadata": {},
          "output_type": "execute_result"
        }
      ],
      "source": [
        "make_positive(2)"
      ]
    },
    {
      "cell_type": "markdown",
      "metadata": {
        "id": "M3Yx9rJfpKYr"
      },
      "source": [
        "Sometimes we need an `else` statement as well:"
      ]
    },
    {
      "cell_type": "code",
      "execution_count": null,
      "metadata": {
        "id": "ed8UsgWNpKYr"
      },
      "outputs": [],
      "source": [
        "def add_or_subtract(operation, x, y):\n",
        "    if operation == 'add':\n",
        "        return x + y\n",
        "    else:\n",
        "        return x - y"
      ]
    },
    {
      "cell_type": "markdown",
      "metadata": {
        "id": "8iDF8fPnpKYr"
      },
      "source": [
        "This triggers the code under the `if` statement:"
      ]
    },
    {
      "cell_type": "code",
      "execution_count": null,
      "metadata": {
        "id": "IWWW1iCtpKYr",
        "outputId": "6733d35d-8152-435b-c4b4-06c35471595e"
      },
      "outputs": [
        {
          "data": {
            "text/plain": [
              "3"
            ]
          },
          "execution_count": 56,
          "metadata": {},
          "output_type": "execute_result"
        }
      ],
      "source": [
        "add_or_subtract('add', 1, 2)"
      ]
    },
    {
      "cell_type": "markdown",
      "metadata": {
        "id": "gJbUQC64pKYs"
      },
      "source": [
        "Since the Boolean check in the `if` statement was `False`, this triggers the code under the `else` statement:"
      ]
    },
    {
      "cell_type": "code",
      "execution_count": null,
      "metadata": {
        "id": "TqVYXaATpKYs",
        "outputId": "cd68baef-9169-42a8-f971-5c1c14e2ad83"
      },
      "outputs": [
        {
          "data": {
            "text/plain": [
              "-1"
            ]
          },
          "execution_count": 57,
          "metadata": {},
          "output_type": "execute_result"
        }
      ],
      "source": [
        "add_or_subtract('subtract', 1, 2)"
      ]
    },
    {
      "cell_type": "markdown",
      "metadata": {
        "id": "ULFrW0m5pKYs"
      },
      "source": [
        "For more complicated logic, we can also use `elif`. We can have any number of `elif` statements. Optionally, we can include `else`."
      ]
    },
    {
      "cell_type": "code",
      "execution_count": null,
      "metadata": {
        "id": "BGLIHXztpKYt"
      },
      "outputs": [],
      "source": [
        "def calculate(operation, x, y):\n",
        "    if operation == 'add':\n",
        "        return x + y\n",
        "    elif operation == 'subtract':\n",
        "        return x - y\n",
        "    elif operation == 'multiply':\n",
        "        return x * y\n",
        "    elif operation == 'division':\n",
        "        return x / y\n",
        "    else:\n",
        "        print(\"This case hasn't been handled\")"
      ]
    },
    {
      "cell_type": "markdown",
      "metadata": {
        "id": "mclxr0TdpKYt"
      },
      "source": [
        "The code keeps checking the conditions in the `if` statements from top to bottom until it finds `multiply`:"
      ]
    },
    {
      "cell_type": "code",
      "execution_count": null,
      "metadata": {
        "id": "-oYQKAcApKYu",
        "outputId": "edf7b5a9-c7e2-409d-83a4-53102e789b32"
      },
      "outputs": [
        {
          "data": {
            "text/plain": [
              "12"
            ]
          },
          "execution_count": 59,
          "metadata": {},
          "output_type": "execute_result"
        }
      ],
      "source": [
        "calculate('multiply', 3, 4)"
      ]
    },
    {
      "cell_type": "markdown",
      "metadata": {
        "id": "wHfG1YZ9pKYu"
      },
      "source": [
        "The code keeps checking the conditions in the `if` statements from top to bottom until it hits the `else` statement:"
      ]
    },
    {
      "cell_type": "code",
      "execution_count": null,
      "metadata": {
        "id": "X3MWE9GYpKYv",
        "outputId": "c2a985ed-8ac2-4e60-a831-bfba911104eb"
      },
      "outputs": [
        {
          "name": "stdout",
          "output_type": "stream",
          "text": [
            "This case hasn't been handled\n"
          ]
        }
      ],
      "source": [
        "calculate('power', 3, 4)"
      ]
    },
    {
      "cell_type": "markdown",
      "metadata": {
        "id": "gzgt1B5zpKYv"
      },
      "source": [
        "## Loops\n",
        "### `while` loops\n",
        "With `while` loops, we can keep running code until some stopping condition is met:"
      ]
    },
    {
      "cell_type": "code",
      "execution_count": null,
      "metadata": {
        "id": "2UYn2NL8pKYw",
        "outputId": "c095ec4c-89ab-45d7-c4f4-ecae1962254c"
      },
      "outputs": [
        {
          "name": "stdout",
          "output_type": "stream",
          "text": [
            "Still going... 2\n",
            "Still going... 4\n",
            "Still going... 8\n"
          ]
        }
      ],
      "source": [
        "done = False\n",
        "value = 2\n",
        "while not done:\n",
        "    print('Still going...', value)\n",
        "    value *= 2\n",
        "    if value > 10:\n",
        "        done = True"
      ]
    },
    {
      "cell_type": "markdown",
      "metadata": {
        "id": "zkCFdCO-pKYw"
      },
      "source": [
        "Note this can also be written as, by moving the condition to the `while` statement:"
      ]
    },
    {
      "cell_type": "code",
      "execution_count": null,
      "metadata": {
        "id": "-Klrj6supKYw",
        "outputId": "1da6057d-d6f2-4478-8a69-6f28e9008331"
      },
      "outputs": [
        {
          "name": "stdout",
          "output_type": "stream",
          "text": [
            "Still going... 2\n",
            "Still going... 4\n",
            "Still going... 8\n"
          ]
        }
      ],
      "source": [
        "value = 2\n",
        "while value < 10:\n",
        "    print('Still going...', value)\n",
        "    value *= 2"
      ]
    },
    {
      "cell_type": "markdown",
      "metadata": {
        "id": "jgpFxryDpKYx"
      },
      "source": [
        "### `for` loops\n",
        "With `for` loops, we can run our code *for each* element in a collection:"
      ]
    },
    {
      "cell_type": "code",
      "execution_count": null,
      "metadata": {
        "id": "4B_am-rQpKYx",
        "outputId": "7f5f49bd-2f52-46c9-9f2d-7b9eb075147b"
      },
      "outputs": [
        {
          "name": "stdout",
          "output_type": "stream",
          "text": [
            "0\n",
            "1\n",
            "2\n",
            "3\n",
            "4\n"
          ]
        }
      ],
      "source": [
        "for i in range(5):\n",
        "    print(i)"
      ]
    },
    {
      "cell_type": "markdown",
      "metadata": {
        "id": "tGmDVTz3pKYy"
      },
      "source": [
        "We can use `for` loops with lists, tuples, sets, and dictionaries as well:"
      ]
    },
    {
      "cell_type": "code",
      "execution_count": null,
      "metadata": {
        "id": "JPJt1neIpKYy",
        "outputId": "264e1f18-ba63-4c23-966f-c1bfc08e962d"
      },
      "outputs": [
        {
          "name": "stdout",
          "output_type": "stream",
          "text": [
            "hello\n",
            "3.8\n",
            "True\n",
            "Python\n"
          ]
        }
      ],
      "source": [
        "for element in my_list:\n",
        "    print(element)"
      ]
    },
    {
      "cell_type": "code",
      "execution_count": null,
      "metadata": {
        "id": "BdP_hPZnpKYz",
        "outputId": "15b22ac1-cc13-4e68-91d7-6847ad81e3ab"
      },
      "outputs": [
        {
          "name": "stdout",
          "output_type": "stream",
          "text": [
            "For veggies we need to buy ['spinach', 'kale', 'beets']\n",
            "For fruits we need to buy bananas\n",
            "For meat we need to buy 0\n"
          ]
        }
      ],
      "source": [
        "for key, value in shopping_list.items():\n",
        "    print('For', key, 'we need to buy', value)"
      ]
    },
    {
      "cell_type": "markdown",
      "metadata": {
        "id": "jR5GVx0-pKYz"
      },
      "source": [
        "With `for` loops, we don't have to worry about checking if we have reached the stopping condition. Conversely, `while` loops can cause infinite loops if we don't remember to update variables.\n",
        "\n",
        "## Imports\n",
        "We have been working with the portion of Python that is available without importing additional functionality. The Python standard library that comes with the install of Python is broken up into several **modules**, but we often only need a few. We can import whatever we need: a module in the standard library, a 3rd-party library, or code that we wrote. This is done with an `import` statement:"
      ]
    },
    {
      "cell_type": "code",
      "execution_count": null,
      "metadata": {
        "id": "Pnmc3bLrpKYz",
        "outputId": "5cfa3b4a-54eb-4a11-9d33-948ebe09454d"
      },
      "outputs": [
        {
          "name": "stdout",
          "output_type": "stream",
          "text": [
            "3.141592653589793\n"
          ]
        }
      ],
      "source": [
        "import math\n",
        "\n",
        "print(math.pi)"
      ]
    },
    {
      "cell_type": "markdown",
      "metadata": {
        "id": "9DEs2_MlpKY0"
      },
      "source": [
        "If we only need a small piece from that module, we can do the following instead:"
      ]
    },
    {
      "cell_type": "code",
      "execution_count": null,
      "metadata": {
        "id": "7IdvBwnzpKY0",
        "outputId": "46e2b964-ec97-417c-c248-c273c89b73f5"
      },
      "outputs": [
        {
          "name": "stdout",
          "output_type": "stream",
          "text": [
            "3.141592653589793\n"
          ]
        }
      ],
      "source": [
        "from math import pi\n",
        "\n",
        "print(pi)"
      ]
    },
    {
      "cell_type": "markdown",
      "metadata": {
        "id": "EhyKdUvRpKY0"
      },
      "source": [
        "*Warning: anything you import is added to the namespace, so if you create a new variable/function/etc. with the same name it will overwrite the previous value. For this reason, we have to be careful with variable names e.g. if you name something `sum`, you won't be able to add using the `sum()` built-in function anymore. Using notebooks or an IDE will help you avoid these issues with syntax highlighting.*\n",
        "\n",
        "## Installing 3rd-party Packages\n",
        "**NOTE: We will cover the environment setup in the text; this is for reference.**\n",
        "\n",
        "We can use [`pip`](https://pip.pypa.io/en/stable/reference/) or [`conda`](https://docs.conda.io/projects/conda/en/latest/commands.html) to install packages, depending on how we created our virtual environment. The text walks through the commands to create virtual environments with `venv` and `conda`. The environment **MUST** be activated before installing the packages for this text; otherwise, it's possible they interfere with other projects on your machine or vice versa.\n",
        "\n",
        "To install a package, we can use `pip3 install <package_name>`. Optionally, we can provide a specific version to install `pip3 install pandas==0.23.4`. Without that specification, we will get the most stable version. When we have many packages to install (as we do for this book), we will typically use a `requirements.txt` file: `pip3 install -r requirements.txt`.\n",
        "\n",
        "*Note: running `pip3 freeze > requirements.txt` will send the list of packages installed in the activate environment and their respective versions to the `requirements.txt` file.*\n",
        "\n",
        "\n",
        "## Classes\n",
        "*NOTE: We will discuss this further in the text in chapter 7. For now, it is important to be aware of the syntax in this section.*\n",
        "\n",
        "So far we have used Python as a functional programming language, but we also have the option to use it for **object-oriented programming**. You can think of a `class` as a way to group similar functionality together. Let's create a calculator class which can handle mathematical operations for us. For this, we use the `class` keyword and define **methods** for taking actions on the calculator. These methods are functions that take `self` as the first argument. When calling them, we don't pass in anything for that argument (example after this):"
      ]
    },
    {
      "cell_type": "code",
      "execution_count": null,
      "metadata": {
        "id": "l7E5CHfJpKY0"
      },
      "outputs": [],
      "source": [
        "class Calculator:\n",
        "    \"\"\"This is the class docstring.\"\"\"\n",
        "\n",
        "    def __init__(self):\n",
        "        \"\"\"This is a method and it is called when we create an object of type `Calculator`.\"\"\"\n",
        "        self.on = False\n",
        "\n",
        "    def turn_on(self):\n",
        "        \"\"\"This method turns on the calculator.\"\"\"\n",
        "        self.on = True\n",
        "\n",
        "    def add(self, x, y):\n",
        "        \"\"\"Perform addition if calculator is on\"\"\"\n",
        "        if self.on:\n",
        "            return x + y\n",
        "        else:\n",
        "            print('the calculator is not on')"
      ]
    },
    {
      "cell_type": "markdown",
      "metadata": {
        "id": "hctEKElTpKY0"
      },
      "source": [
        "In order to use the calculator, we need to **instantiate** an instance or object of type `Calculator`. Since the `__init__()` method has no parameters other than `self`, we don't need to provide anything:"
      ]
    },
    {
      "cell_type": "code",
      "execution_count": null,
      "metadata": {
        "id": "8SfkeD1-pKY1"
      },
      "outputs": [],
      "source": [
        "my_calculator = Calculator()"
      ]
    },
    {
      "cell_type": "markdown",
      "metadata": {
        "id": "b7GrP0pxpKY1"
      },
      "source": [
        "Let's try to add some numbers:"
      ]
    },
    {
      "cell_type": "code",
      "execution_count": null,
      "metadata": {
        "id": "kdewPjFmpKY1",
        "outputId": "9c695d6f-56be-4c22-b2d0-640cff6df16f"
      },
      "outputs": [
        {
          "name": "stdout",
          "output_type": "stream",
          "text": [
            "the calculator is not on\n"
          ]
        }
      ],
      "source": [
        "my_calculator.add(1, 2)"
      ]
    },
    {
      "cell_type": "markdown",
      "metadata": {
        "id": "WGFjaWtjpKY1"
      },
      "source": [
        "Oops!! The calculator is not on. Let's turn it on:"
      ]
    },
    {
      "cell_type": "code",
      "execution_count": null,
      "metadata": {
        "id": "aHYdYaJcpKY1"
      },
      "outputs": [],
      "source": [
        "my_calculator.turn_on()"
      ]
    },
    {
      "cell_type": "markdown",
      "metadata": {
        "id": "fEs2HFRmpKY1"
      },
      "source": [
        "Let's try again:"
      ]
    },
    {
      "cell_type": "code",
      "execution_count": null,
      "metadata": {
        "id": "1X3qg_stpKY1",
        "outputId": "5f5c6eda-7fbd-4495-96de-673ad2652155"
      },
      "outputs": [
        {
          "data": {
            "text/plain": [
              "3"
            ]
          },
          "execution_count": 72,
          "metadata": {},
          "output_type": "execute_result"
        }
      ],
      "source": [
        "my_calculator.add(1, 2)"
      ]
    },
    {
      "cell_type": "markdown",
      "metadata": {
        "id": "cZYhUPwypKY2"
      },
      "source": [
        "We can access **attributes** on object with dot notation. In this example, the only attribute is `on`, and it is set in the `__init__()` method:"
      ]
    },
    {
      "cell_type": "code",
      "execution_count": null,
      "metadata": {
        "id": "RqUvai74pKY2",
        "outputId": "22fbd724-955c-4de6-c0c2-b144c628b69a"
      },
      "outputs": [
        {
          "data": {
            "text/plain": [
              "True"
            ]
          },
          "execution_count": 73,
          "metadata": {},
          "output_type": "execute_result"
        }
      ],
      "source": [
        "my_calculator.on"
      ]
    },
    {
      "cell_type": "markdown",
      "metadata": {
        "id": "8uKuVFT0pKY2"
      },
      "source": [
        "Note that we can also update attributes:"
      ]
    },
    {
      "cell_type": "code",
      "execution_count": null,
      "metadata": {
        "id": "L9Fp1wa7pKY2",
        "outputId": "a3b57442-3700-4575-af65-86753e23a3fb"
      },
      "outputs": [
        {
          "name": "stdout",
          "output_type": "stream",
          "text": [
            "the calculator is not on\n"
          ]
        }
      ],
      "source": [
        "my_calculator.on = False\n",
        "my_calculator.add(1, 2)"
      ]
    },
    {
      "cell_type": "markdown",
      "metadata": {
        "id": "-DtcWEO9pKY2"
      },
      "source": [
        "Finally, we can use `help()` to get more information on the object:"
      ]
    },
    {
      "cell_type": "code",
      "execution_count": null,
      "metadata": {
        "id": "zyttOXPCpKY2",
        "outputId": "4317bdc9-9eff-45eb-feca-37e370c9bf6f"
      },
      "outputs": [
        {
          "name": "stdout",
          "output_type": "stream",
          "text": [
            "Help on Calculator in module __main__ object:\n",
            "\n",
            "class Calculator(builtins.object)\n",
            " |  This is the class docstring.\n",
            " |  \n",
            " |  Methods defined here:\n",
            " |  \n",
            " |  __init__(self)\n",
            " |      This is a method and it is called when we create an object of type `Calculator`.\n",
            " |  \n",
            " |  add(self, x, y)\n",
            " |      Perform addition if calculator is on\n",
            " |  \n",
            " |  turn_on(self)\n",
            " |      This method turns on the calculator.\n",
            " |  \n",
            " |  ----------------------------------------------------------------------\n",
            " |  Data descriptors defined here:\n",
            " |  \n",
            " |  __dict__\n",
            " |      dictionary for instance variables (if defined)\n",
            " |  \n",
            " |  __weakref__\n",
            " |      list of weak references to the object (if defined)\n",
            "\n"
          ]
        }
      ],
      "source": [
        "help(my_calculator)"
      ]
    },
    {
      "cell_type": "markdown",
      "metadata": {
        "id": "A1-dDegkpKY3"
      },
      "source": [
        "... and also for a method:"
      ]
    },
    {
      "cell_type": "code",
      "execution_count": null,
      "metadata": {
        "id": "hq3Y6z3gpKY3",
        "outputId": "61567a85-15d0-4792-fa0d-58e7ca58127c"
      },
      "outputs": [
        {
          "name": "stdout",
          "output_type": "stream",
          "text": [
            "Help on method add in module __main__:\n",
            "\n",
            "add(x, y) method of __main__.Calculator instance\n",
            "    Perform addition if calculator is on\n",
            "\n"
          ]
        }
      ],
      "source": [
        "help(my_calculator.add)"
      ]
    },
    {
      "cell_type": "markdown",
      "metadata": {
        "id": "m9l5Td3SpKY3"
      },
      "source": [
        "## Next Steps\n",
        "This was a crash course in Python. By no means are you expected to be an expert in the language to start working through the text. Take some time to play around with this notebook before trying [this chapter's exercises](./exercises.ipynb).\n",
        "\n",
        "<hr>\n",
        "<div style=\"overflow: hidden; margin-bottom: 10px;\">\n",
        "    <div style=\"float: left;\">\n",
        "         <a href=\"./introduction_to_data_analysis.ipynb\">\n",
        "            <button>&#8592; Introduction to Data Analysis</button>\n",
        "        </a>\n",
        "    </div>\n",
        "    <div style=\"float: right;\">\n",
        "        <a href=\"./check_your_setup.ipynb\">\n",
        "            <button>Check your Setup</button>\n",
        "        </a>\n",
        "        <a href=\"./exercises.ipynb\">\n",
        "            <button>Chapter 1 Exercises &#8594;</button>\n",
        "        </a>\n",
        "    </div>\n",
        "</div>\n",
        "<hr>"
      ]
    }
  ],
  "metadata": {
    "kernelspec": {
      "display_name": "Python 3",
      "language": "python",
      "name": "python3"
    },
    "language_info": {
      "codemirror_mode": {
        "name": "ipython",
        "version": 3
      },
      "file_extension": ".py",
      "mimetype": "text/x-python",
      "name": "python",
      "nbconvert_exporter": "python",
      "pygments_lexer": "ipython3",
      "version": "3.7.3"
    },
    "colab": {
      "provenance": []
    }
  },
  "nbformat": 4,
  "nbformat_minor": 0
}